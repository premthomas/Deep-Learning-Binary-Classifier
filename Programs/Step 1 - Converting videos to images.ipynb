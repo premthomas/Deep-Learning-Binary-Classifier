{
 "cells": [
  {
   "cell_type": "markdown",
   "metadata": {},
   "source": [
    "# Step 1 - Converting videos to images\n",
    "### Objective\n",
    "This program will convert your videos into images. \n",
    "\n",
    "### Requirements\n",
    "Create the folders mentioned below and populate the subfolders created with the videos collected.\n",
    "\n",
    "### Folder structure\n",
    "    Data\n",
    "    |\n",
    "    ----Input Videos                    ---manually create\n",
    "    |    |\n",
    "    |    ----Kevin (class 1)            ---manually create\n",
    "    |    |\n",
    "    |    ----Stuart (class 2)           ---manually create\n",
    "    |\n",
    "    ----Output Data                     ---will be created by the program\n",
    "         |\n",
    "         ----Kevin (class 1)            ---will be created by the program\n",
    "         |\n",
    "         ----Stuart (class 2)           ---will be created by the program\n",
    "        \n",
    "In the subfolders (in Input Videos) for classes, put the videos collected. \n",
    "\n",
    "### Output\n",
    "Folder called 'Output Data' will be created. There will be classes subfolders created and will contain the images extracted from the videos that were present in the subfolders of the 'Input Videos' folder. \n",
    "<br><br><b>Note that before proceeding to the next step, a manual check is required of both images subfolders. <br>The classes will have to be balanced with equal number of images.</b>\n",
    "    "
   ]
  },
  {
   "cell_type": "code",
   "execution_count": 1,
   "metadata": {},
   "outputs": [],
   "source": [
    "#Importing the libraries\n",
    "import os\n",
    "import cv2\n",
    "import shutil\n",
    "import glob"
   ]
  },
  {
   "cell_type": "code",
   "execution_count": 2,
   "metadata": {},
   "outputs": [],
   "source": [
    "#Create the 'Output Data' folder\n",
    "if os.path.exists('Data\\Output Data') == False:\n",
    "    os.mkdir('Data\\Output Data')\n",
    "        \n",
    "#Loop through the subfolders in the 'Input Videos' folder\n",
    "for dirs in os.listdir('Data\\Input Videos'):\n",
    "    inputDir = 'Data\\Input Videos\\\\' + dirs\n",
    "    outputDir = 'Data\\Output Data\\\\' + dirs\n",
    "    \n",
    "    #Check if directory already exists. if it does, then delete \n",
    "    if os.path.exists(outputDir):\n",
    "        shutil.rmtree(outputDir)\n",
    "        \n",
    "    #Create output dir\n",
    "    os.mkdir(outputDir)\n",
    "    \n",
    "    count = 0\n",
    "    #Loop through the videos in the subfolder\n",
    "    for file in glob.glob(inputDir + \"\\\\*.*\"):\n",
    "        vidcap = cv2.VideoCapture(file)\n",
    "        success,image = vidcap.read()\n",
    "        fps = vidcap.get(cv2.CAP_PROP_FPS)\n",
    "        success = True\n",
    "        \n",
    "        while success:\n",
    "            #Read the file\n",
    "            success,image = vidcap.read()\n",
    "            \n",
    "            #Create the image in the subfolder in the output folder\n",
    "            cv2.imwrite(outputDir + '\\\\frame%d.jpg' % count, image)     # save frame as JPEG file\n",
    "            if cv2.waitKey(10) == 27:                     # exit if Escape is hit\n",
    "                break\n",
    "            count += 1\n",
    "            \n",
    "print ('Conversion complete.')"
   ]
  }
 ],
 "metadata": {
  "kernelspec": {
   "display_name": "Python 3",
   "language": "python",
   "name": "python3"
  },
  "language_info": {
   "codemirror_mode": {
    "name": "ipython",
    "version": 3
   },
   "file_extension": ".py",
   "mimetype": "text/x-python",
   "name": "python",
   "nbconvert_exporter": "python",
   "pygments_lexer": "ipython3",
   "version": "3.6.6"
  }
 },
 "nbformat": 4,
 "nbformat_minor": 4
}
