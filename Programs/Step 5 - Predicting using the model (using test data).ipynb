{
 "cells": [
  {
   "cell_type": "markdown",
   "metadata": {},
   "source": [
    "# Step 5 - Predicting using the model and test data\n",
    "### Objective\n",
    "Load the model, create a predict function and test the accuracy using the confusion matrix.\n",
    "\n",
    "### Requirements\n",
    "The program 'Step 4' has been run. On completion of the program ('Step 4'), the model will be saved in a folder with the same name. We will use this model to predict outcomes of the test data that was created in 'Step 3'.\n",
    "\n",
    "### Folder structure\n",
    "\n",
    "    Data\n",
    "    |\n",
    "    ----Input Videos                    ---existing\n",
    "    |    |\n",
    "    |    ----Kevin (class 1)            ---existing\n",
    "    |    |\n",
    "    |    ----Stuart (class 2)           ---existing\n",
    "    |\n",
    "    ----Output Data                     ---existing\n",
    "    |    |\n",
    "    |    ----Kevin (class 1)            ---existing\n",
    "    |    |\n",
    "    |    ----Stuart (class 2)           ---existing\n",
    "    |\n",
    "    ----Processed Data                  ---existing\n",
    "    |    |\n",
    "    |    ----Kevin (class 1)            ---existing\n",
    "    |    |\n",
    "    |    ----Stuart (class 2)           ---existing\n",
    "    |    \n",
    "    ----TrainValTest Data               ---existing\n",
    "         |\n",
    "         ----Train                      ---existing\n",
    "              |\n",
    "              ----Kevin (class 1)       ---existing\n",
    "              |\n",
    "              ----Stuart (class 2)      ---existing\n",
    "         |\n",
    "         ----Val                        ---existing\n",
    "              |\n",
    "              ----Kevin (class 1)       ---existing\n",
    "              |\n",
    "              ----Stuart (class 2)      ---existing\n",
    "         |\n",
    "         ----Test                       ---existing\n",
    "              |\n",
    "              ----Kevin (class 1)       ---existing\n",
    "              |\n",
    "              ----Stuart (class 2)      ---existing\n",
    "\n",
    "### Output\n",
    "A confusion matrix which can be used to calculate the accuracy of the model. Compare this new calculated accuracy with the train and validation accuracies that were computed in the previous step."
   ]
  },
  {
   "cell_type": "code",
   "execution_count": 1,
   "metadata": {},
   "outputs": [],
   "source": [
    "#Importing the libraries\n",
    "import tensorflow as tf\n",
    "from tensorflow.keras.preprocessing.image import ImageDataGenerator\n",
    "\n",
    "import numpy as np\n",
    "from sklearn.metrics import confusion_matrix\n",
    "import os"
   ]
  },
  {
   "cell_type": "code",
   "execution_count": null,
   "metadata": {},
   "outputs": [],
   "source": [
    "#Managing the GPU\n",
    "config = tf.compat.v1.ConfigProto()\n",
    "config.gpu_options.allow_growth = True\n",
    "sess = tf.compat.v1.Session(config = config)"
   ]
  },
  {
   "cell_type": "code",
   "execution_count": 2,
   "metadata": {},
   "outputs": [
    {
     "name": "stdout",
     "output_type": "stream",
     "text": [
      "Model: \"sequential\"\n",
      "_________________________________________________________________\n",
      "Layer (type)                 Output Shape              Param #   \n",
      "=================================================================\n",
      "conv2d (Conv2D)              (None, 200, 300, 16)      448       \n",
      "_________________________________________________________________\n",
      "max_pooling2d (MaxPooling2D) (None, 100, 150, 16)      0         \n",
      "_________________________________________________________________\n",
      "conv2d_1 (Conv2D)            (None, 100, 150, 32)      4640      \n",
      "_________________________________________________________________\n",
      "max_pooling2d_1 (MaxPooling2 (None, 50, 75, 32)        0         \n",
      "_________________________________________________________________\n",
      "conv2d_2 (Conv2D)            (None, 50, 75, 64)        18496     \n",
      "_________________________________________________________________\n",
      "max_pooling2d_2 (MaxPooling2 (None, 25, 37, 64)        0         \n",
      "_________________________________________________________________\n",
      "conv2d_3 (Conv2D)            (None, 25, 37, 128)       73856     \n",
      "_________________________________________________________________\n",
      "max_pooling2d_3 (MaxPooling2 (None, 12, 18, 128)       0         \n",
      "_________________________________________________________________\n",
      "conv2d_4 (Conv2D)            (None, 12, 18, 256)       295168    \n",
      "_________________________________________________________________\n",
      "max_pooling2d_4 (MaxPooling2 (None, 6, 9, 256)         0         \n",
      "_________________________________________________________________\n",
      "flatten (Flatten)            (None, 13824)             0         \n",
      "_________________________________________________________________\n",
      "dense (Dense)                (None, 512)               7078400   \n",
      "_________________________________________________________________\n",
      "dense_1 (Dense)              (None, 1)                 513       \n",
      "=================================================================\n",
      "Total params: 7,471,521\n",
      "Trainable params: 7,471,521\n",
      "Non-trainable params: 0\n",
      "_________________________________________________________________\n"
     ]
    }
   ],
   "source": [
    "model = tf.keras.models.load_model('MinionsModel-20200603')\n",
    "model.summary()"
   ]
  },
  {
   "cell_type": "code",
   "execution_count": 3,
   "metadata": {},
   "outputs": [],
   "source": [
    "#Variables\n",
    "batch_size = 8\n",
    "epochs = 50\n",
    "IMG_HEIGHT = 200\n",
    "IMG_WIDTH = 300\n",
    "\n",
    "# inputFolder = 'Data\\Testing Data\\\\New'\n",
    "inputFolder = 'Data\\TrainValTest Data\\Test'"
   ]
  },
  {
   "cell_type": "code",
   "execution_count": 7,
   "metadata": {},
   "outputs": [],
   "source": [
    "def decode_img(img):\n",
    "  # convert the compressed string to a 3D uint8 tensor\n",
    "  img = tf.image.decode_jpeg(img, channels=3)\n",
    "    \n",
    "  # Use `convert_image_dtype` to convert to floats in the [0,1] range.\n",
    "  img = tf.image.convert_image_dtype(img, tf.float32)\n",
    "    \n",
    "  # resize the image to the desired size.\n",
    "  return tf.image.resize(img, [IMG_HEIGHT, IMG_WIDTH])"
   ]
  },
  {
   "cell_type": "code",
   "execution_count": 8,
   "metadata": {},
   "outputs": [],
   "source": [
    "y_actual = []\n",
    "y_pred = []\n",
    "\n",
    "for dirs in os.listdir(inputFolder):\n",
    "    for files in os.listdir(inputFolder + '\\\\' + dirs):\n",
    "        y_actual.append(dirs)\n",
    "        \n",
    "        img = tf.io.read_file(inputFolder + '\\\\' + dirs + '\\\\' + files)\n",
    "        img = decode_img(img)\n",
    "        img = np.expand_dims(img, axis=0)\n",
    "        \n",
    "        prediction = model.predict(img)\n",
    "        \n",
    "        if prediction[0] > 0.5:\n",
    "            y_pred.append('Stuart')\n",
    "        else:\n",
    "            y_pred.append('Kevin')"
   ]
  },
  {
   "cell_type": "code",
   "execution_count": 9,
   "metadata": {},
   "outputs": [
    {
     "data": {
      "text/plain": [
       "array([[132,   0],\n",
       "       [  8,  82]], dtype=int64)"
      ]
     },
     "execution_count": 9,
     "metadata": {},
     "output_type": "execute_result"
    }
   ],
   "source": [
    "confusion_matrix(y_actual, y_pred)"
   ]
  }
 ],
 "metadata": {
  "kernelspec": {
   "display_name": "Python 3",
   "language": "python",
   "name": "python3"
  },
  "language_info": {
   "codemirror_mode": {
    "name": "ipython",
    "version": 3
   },
   "file_extension": ".py",
   "mimetype": "text/x-python",
   "name": "python",
   "nbconvert_exporter": "python",
   "pygments_lexer": "ipython3",
   "version": "3.6.6"
  }
 },
 "nbformat": 4,
 "nbformat_minor": 4
}
