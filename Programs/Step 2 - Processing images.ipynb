{
 "cells": [
  {
   "cell_type": "markdown",
   "metadata": {},
   "source": [
    "# Step 2 - Processing the output data\n",
    "### Objective\n",
    "This program will process the data in the subfolders in 'Output Data'. The results will be put in subfolders in the 'Processed Data' folder. \n",
    "\n",
    "### Requirements\n",
    "The program 'Step 1' has been run. On completion of the program ('Step 1'), the 'Output Data' with the subfolders have been created and populated.\n",
    "\n",
    "### Folder structure\n",
    "\n",
    "    Data\n",
    "    |\n",
    "    ----Input Videos                    ---existing\n",
    "    |    |\n",
    "    |    ----Kevin (class 1)            ---existing\n",
    "    |    |\n",
    "    |    ----Stuart (class 2)           ---existing\n",
    "    |\n",
    "    ----Output Data                     ---existing\n",
    "    |    |\n",
    "    |    ----Kevin (class 1)            ---existing\n",
    "    |    |\n",
    "    |    ----Stuart (class 2)           ---existing\n",
    "    |\n",
    "    ----Processed Data                  ---will be created by the program\n",
    "         |\n",
    "         ----Kevin (class 1)            ---will be created by the program\n",
    "         |\n",
    "         ----Stuart (class 2)           ---will be created by the program\n",
    "\n",
    "### Output\n",
    "Folder called 'Processed Data' will be created. There will be classes subfolders created and will contain the processed images using the images in the 'Output Data' subfolders.    "
   ]
  },
  {
   "cell_type": "code",
   "execution_count": 1,
   "metadata": {},
   "outputs": [],
   "source": [
    "#Importing the libraries\n",
    "import os\n",
    "import glob\n",
    "from PIL import Image\n",
    "import shutil"
   ]
  },
  {
   "cell_type": "code",
   "execution_count": 2,
   "metadata": {},
   "outputs": [],
   "source": [
    "#Create the 'Processed Data' folder\n",
    "if os.path.exists('Data\\Processed Data') == False:\n",
    "    os.mkdir('Data\\Processed Data')\n",
    "\n",
    "#Loop through the subfolders in the 'Output Data' folder\n",
    "for dirs in os.listdir('Data\\Output Data'):\n",
    "    inputDir = 'Data\\Output Data\\\\' + dirs\n",
    "    outputDir = 'Data\\Processed Data\\\\' + dirs\n",
    "    \n",
    "    #Delete output sub directory if exists\n",
    "    if os.path.exists(outputDir):\n",
    "        shutil.rmtree(outputDir)\n",
    "        \n",
    "    #Create output sub dir\n",
    "    os.mkdir(outputDir)\n",
    "        \n",
    "    count = 0\n",
    "    #Loop through the images in the subfolder\n",
    "    for file in glob.glob(inputDir + \"\\\\*.jpg\"):\n",
    "        img = Image.open(file)\n",
    "        \n",
    "        #Process the image by resizing\n",
    "        img = img.resize((300,200), Image.ANTIALIAS)\n",
    "        \n",
    "        #Create the image in the subfolder\n",
    "        img.save(outputDir + '\\\\frame%d.jpg' %count) \n",
    "        count += 1\n",
    "        \n",
    "print ('Creation of processed data complete.')"
   ]
  }
 ],
 "metadata": {
  "kernelspec": {
   "display_name": "Python 3",
   "language": "python",
   "name": "python3"
  },
  "language_info": {
   "codemirror_mode": {
    "name": "ipython",
    "version": 3
   },
   "file_extension": ".py",
   "mimetype": "text/x-python",
   "name": "python",
   "nbconvert_exporter": "python",
   "pygments_lexer": "ipython3",
   "version": "3.6.6"
  }
 },
 "nbformat": 4,
 "nbformat_minor": 4
}
