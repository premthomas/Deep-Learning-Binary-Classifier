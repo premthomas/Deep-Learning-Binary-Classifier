{
 "cells": [
  {
   "cell_type": "markdown",
   "metadata": {},
   "source": [
    "# Step 4 - Creating and training a model\n",
    "### Objective\n",
    "Create a model, compile it, and run the training with the images saved in the 'TrainValTest Data' folder.\n",
    "\n",
    "### Requirements\n",
    "The program 'Step 3' has been run. On completion of the program ('Step 3'), the 'TrainValTest Data' with the subfolders have been created and populated.\n",
    "\n",
    "### Folder structure\n",
    "\n",
    "    Data\n",
    "    |\n",
    "    ----Input Videos                    ---existing\n",
    "    |    |\n",
    "    |    ----Kevin (class 1)            ---existing\n",
    "    |    |\n",
    "    |    ----Stuart (class 2)           ---existing\n",
    "    |\n",
    "    ----Output Data                     ---existing\n",
    "    |    |\n",
    "    |    ----Kevin (class 1)            ---existing\n",
    "    |    |\n",
    "    |    ----Stuart (class 2)           ---existing\n",
    "    |\n",
    "    ----Processed Data                  ---existing\n",
    "    |    |\n",
    "    |    ----Kevin (class 1)            ---existing\n",
    "    |    |\n",
    "    |    ----Stuart (class 2)           ---existing\n",
    "    |    \n",
    "    ----TrainValTest Data               ---existing\n",
    "         |\n",
    "         ----Train                      ---existing\n",
    "              |\n",
    "              ----Kevin (class 1)       ---existing\n",
    "              |\n",
    "              ----Stuart (class 2)      ---existing\n",
    "         |\n",
    "         ----Val                        ---existing\n",
    "              |\n",
    "              ----Kevin (class 1)       ---existing\n",
    "              |\n",
    "              ----Stuart (class 2)      ---existing\n",
    "         |\n",
    "         ----Test                       ---existing\n",
    "              |\n",
    "              ----Kevin (class 1)       ---existing\n",
    "              |\n",
    "              ----Stuart (class 2)      ---existing\n",
    "\n",
    "### Output\n",
    "The saved model will create a folder in which the assests will be stored. The folder/model name is used in loading the model which will be called in the next program for prediction."
   ]
  },
  {
   "cell_type": "code",
   "execution_count": 1,
   "metadata": {},
   "outputs": [],
   "source": [
    "#Importing the libraries\n",
    "import tensorflow as tf\n",
    "from tensorflow.keras.preprocessing.image import ImageDataGenerator\n",
    "from tensorflow.keras.models import Sequential\n",
    "from tensorflow.keras.layers import Dense, Conv2D, Flatten, Dropout, MaxPooling2D\n",
    "\n",
    "import os\n",
    "import matplotlib.pyplot as plt"
   ]
  },
  {
   "cell_type": "code",
   "execution_count": null,
   "metadata": {},
   "outputs": [],
   "source": [
    "#Managing the GPU.\n",
    "#This will take care of most of the 'Out of Memory' issues that rise with using a local GPU.\n",
    "config = tf.compat.v1.ConfigProto()\n",
    "config.gpu_options.allow_growth = True\n",
    "sess = tf.compat.v1.Session(config = config)"
   ]
  },
  {
   "cell_type": "code",
   "execution_count": 2,
   "metadata": {},
   "outputs": [
    {
     "data": {
      "text/plain": [
       "[PhysicalDevice(name='/physical_device:GPU:0', device_type='GPU')]"
      ]
     },
     "execution_count": 2,
     "metadata": {},
     "output_type": "execute_result"
    }
   ],
   "source": [
    "#Check to see ifthe GPU is available.\n",
    "tf.config.experimental.list_physical_devices('GPU')"
   ]
  },
  {
   "cell_type": "code",
   "execution_count": 3,
   "metadata": {},
   "outputs": [
    {
     "name": "stdout",
     "output_type": "stream",
     "text": [
      "Kevin training images: 334\n",
      "Stuart training images: 334\n",
      "Kevin validation images: 167\n",
      "Stuart validation images: 167\n",
      "-------------------------\n",
      "Total training images: 668\n",
      "Total validation images: 334\n"
     ]
    }
   ],
   "source": [
    "trainDir = 'Data\\TrainValTest Data\\Train'\n",
    "valDir = 'Data\\TrainValTest Data\\Val'\n",
    "\n",
    "trainKevinDir = os.path.join(trainDir, 'Kevin')  \n",
    "trainStuartDir = os.path.join(trainDir, 'Stuart')  \n",
    "valKevinDir = os.path.join(valDir, 'Kevin')  \n",
    "valStuartDir = os.path.join(valDir, 'Stuart')  \n",
    "\n",
    "print ('Kevin training images: %d' %len(os.listdir(trainKevinDir)))\n",
    "print ('Stuart training images: %d' %len(os.listdir(trainStuartDir)))\n",
    "print ('Kevin validation images: %d' %len(os.listdir(valKevinDir)))\n",
    "print ('Stuart validation images: %d' %len(os.listdir(valStuartDir)))\n",
    "print ('-------------------------')\n",
    "print ('Total training images: %d' %(len(os.listdir(trainKevinDir))+len(os.listdir(trainStuartDir))))\n",
    "print ('Total validation images: %d' %(len(os.listdir(valKevinDir))+len(os.listdir(valStuartDir))))\n",
    "\n",
    "total_train = len(os.listdir(trainKevinDir))+len(os.listdir(trainStuartDir))\n",
    "total_val = len(os.listdir(valKevinDir))+len(os.listdir(valStuartDir))"
   ]
  },
  {
   "cell_type": "code",
   "execution_count": 4,
   "metadata": {},
   "outputs": [],
   "source": [
    "batch_size = 8\n",
    "epochs = 10\n",
    "learning_rate = 0.0000012\n",
    "IMG_HEIGHT = 200\n",
    "IMG_WIDTH = 300\n",
    "\n",
    "reqVAcc = 0.9\n",
    "reqDiff = 0.05"
   ]
  },
  {
   "cell_type": "code",
   "execution_count": 5,
   "metadata": {},
   "outputs": [],
   "source": [
    "trainIDG = ImageDataGenerator(rescale=1./255,\n",
    "#                              rotation_range=45,\n",
    "#                              width_shift_range=.15,\n",
    "#                              height_shift_range=.15,\n",
    "#                              horizontal_flip=True,\n",
    "                              zoom_range=0.5) \n",
    "\n",
    "valIDG = ImageDataGenerator(rescale=1./255) "
   ]
  },
  {
   "cell_type": "code",
   "execution_count": 6,
   "metadata": {},
   "outputs": [
    {
     "name": "stdout",
     "output_type": "stream",
     "text": [
      "Found 668 images belonging to 2 classes.\n"
     ]
    }
   ],
   "source": [
    "train_data_gen = trainIDG.flow_from_directory(batch_size=batch_size,\n",
    "                                              directory=trainDir,\n",
    "                                              shuffle=True,\n",
    "                                              target_size=(IMG_HEIGHT, IMG_WIDTH),\n",
    "                                              class_mode='binary')"
   ]
  },
  {
   "cell_type": "code",
   "execution_count": 7,
   "metadata": {},
   "outputs": [
    {
     "name": "stdout",
     "output_type": "stream",
     "text": [
      "Found 334 images belonging to 2 classes.\n"
     ]
    }
   ],
   "source": [
    "val_data_gen = valIDG.flow_from_directory(batch_size=batch_size,\n",
    "                                          directory=valDir,\n",
    "                                          shuffle=True,\n",
    "                                          target_size=(IMG_HEIGHT, IMG_WIDTH),\n",
    "                                          class_mode='binary')"
   ]
  },
  {
   "cell_type": "code",
   "execution_count": 9,
   "metadata": {},
   "outputs": [],
   "source": [
    "model = Sequential([\n",
    "    Conv2D(16, 3, padding='same', activation='relu', input_shape=(IMG_HEIGHT, IMG_WIDTH ,3)),\n",
    "    MaxPooling2D(),\n",
    "\n",
    "    Conv2D(32, 3, padding='same', activation='relu'),\n",
    "    MaxPooling2D(),\n",
    "\n",
    "    Conv2D(64, 3, padding='same', activation='relu'),\n",
    "    MaxPooling2D(),\n",
    "\n",
    "    Conv2D(128, 3, padding='same', activation='relu'),\n",
    "    MaxPooling2D(),\n",
    "\n",
    "    Conv2D(256, 3, padding='same', activation='relu'),\n",
    "    MaxPooling2D(),\n",
    "\n",
    "    Flatten(),\n",
    "    \n",
    "    Dense(512, activation='relu'),\n",
    "    Dense(1, activation='sigmoid')\n",
    "])\n",
    "model.summary()"
   ]
  },
  {
   "cell_type": "code",
   "execution_count": 10,
   "metadata": {},
   "outputs": [],
   "source": [
    "adam = tf.keras.optimizers.Adam(learning_rate=learning_rate #,\n",
    "#                                 beta_1=0.9, \n",
    "#                                 beta_2=0.999, \n",
    "#                                 epsilon=1e-07, \n",
    "#                                 amsgrad=False,\n",
    ")"
   ]
  },
  {
   "cell_type": "code",
   "execution_count": 11,
   "metadata": {},
   "outputs": [],
   "source": [
    "model.compile(optimizer=adam,\n",
    "              loss=tf.keras.losses.BinaryCrossentropy(from_logits=True),\n",
    "              metrics=['accuracy'])"
   ]
  },
  {
   "cell_type": "code",
   "execution_count": 13,
   "metadata": {},
   "outputs": [],
   "source": [
    "def run_training():\n",
    "    return model.fit(train_data_gen,\n",
    "                     epochs           = epochs,\n",
    "                     batch_size       = batch_size, \n",
    "                     validation_data  = val_data_gen)"
   ]
  },
  {
   "cell_type": "code",
   "execution_count": 14,
   "metadata": {},
   "outputs": [
    {
     "name": "stdout",
     "output_type": "stream",
     "text": [
      "Epoch 1/10\n",
      "84/84 [==============================] - 14s 170ms/step - loss: 0.7200 - accuracy: 0.5000 - val_loss: 0.7161 - val_accuracy: 0.5000\n",
      "Epoch 2/10\n",
      "84/84 [==============================] - 13s 153ms/step - loss: 0.7134 - accuracy: 0.5000 - val_loss: 0.7099 - val_accuracy: 0.5000\n",
      "Epoch 3/10\n",
      "84/84 [==============================] - 13s 158ms/step - loss: 0.7079 - accuracy: 0.5000 - val_loss: 0.7042 - val_accuracy: 0.5000\n",
      "Epoch 4/10\n",
      "84/84 [==============================] - 13s 157ms/step - loss: 0.7029 - accuracy: 0.5000 - val_loss: 0.6997 - val_accuracy: 0.5000\n",
      "Epoch 5/10\n",
      "84/84 [==============================] - 13s 153ms/step - loss: 0.6987 - accuracy: 0.5000 - val_loss: 0.6959 - val_accuracy: 0.5000\n",
      "Epoch 6/10\n",
      "84/84 [==============================] - 13s 155ms/step - loss: 0.6955 - accuracy: 0.5000 - val_loss: 0.6933 - val_accuracy: 0.5000\n",
      "Epoch 7/10\n",
      "84/84 [==============================] - 13s 155ms/step - loss: 0.6931 - accuracy: 0.5000 - val_loss: 0.6915 - val_accuracy: 0.5000\n",
      "Epoch 8/10\n",
      "84/84 [==============================] - 13s 153ms/step - loss: 0.6916 - accuracy: 0.5000 - val_loss: 0.6901 - val_accuracy: 0.5000\n",
      "Epoch 9/10\n",
      "84/84 [==============================] - 13s 158ms/step - loss: 0.6905 - accuracy: 0.5000 - val_loss: 0.6893 - val_accuracy: 0.5000\n",
      "Epoch 10/10\n",
      "84/84 [==============================] - 13s 155ms/step - loss: 0.6898 - accuracy: 0.5000 - val_loss: 0.6887 - val_accuracy: 0.5000\n",
      "Step  1\n",
      "Difference:  0.0\n",
      "Validation Acc: 0.5\n",
      "Epoch 1/10\n",
      "84/84 [==============================] - 13s 154ms/step - loss: 0.6891 - accuracy: 0.5000 - val_loss: 0.6882 - val_accuracy: 0.5000\n",
      "Epoch 2/10\n",
      "84/84 [==============================] - 13s 157ms/step - loss: 0.6885 - accuracy: 0.5000 - val_loss: 0.6878 - val_accuracy: 0.5000\n",
      "Epoch 3/10\n",
      "84/84 [==============================] - 13s 160ms/step - loss: 0.6881 - accuracy: 0.5000 - val_loss: 0.6874 - val_accuracy: 0.5000\n",
      "Epoch 4/10\n",
      "84/84 [==============================] - 13s 154ms/step - loss: 0.6878 - accuracy: 0.5000 - val_loss: 0.6870 - val_accuracy: 0.5000\n",
      "Epoch 5/10\n",
      "84/84 [==============================] - 13s 155ms/step - loss: 0.6874 - accuracy: 0.5000 - val_loss: 0.6866 - val_accuracy: 0.5000\n",
      "Epoch 6/10\n",
      "84/84 [==============================] - 13s 153ms/step - loss: 0.6873 - accuracy: 0.5000 - val_loss: 0.6862 - val_accuracy: 0.5000\n",
      "Epoch 7/10\n",
      "84/84 [==============================] - 13s 152ms/step - loss: 0.6866 - accuracy: 0.5000 - val_loss: 0.6858 - val_accuracy: 0.5000\n",
      "Epoch 8/10\n",
      "84/84 [==============================] - 13s 156ms/step - loss: 0.6862 - accuracy: 0.5000 - val_loss: 0.6852 - val_accuracy: 0.5000\n",
      "Epoch 9/10\n",
      "84/84 [==============================] - 13s 154ms/step - loss: 0.6859 - accuracy: 0.5000 - val_loss: 0.6847 - val_accuracy: 0.5000\n",
      "Epoch 10/10\n",
      "84/84 [==============================] - 13s 155ms/step - loss: 0.6855 - accuracy: 0.5000 - val_loss: 0.6841 - val_accuracy: 0.5000\n",
      "Step  2\n",
      "Difference:  0.0\n",
      "Validation Acc: 0.5\n",
      "Epoch 1/10\n",
      "84/84 [==============================] - 13s 157ms/step - loss: 0.6845 - accuracy: 0.5000 - val_loss: 0.6833 - val_accuracy: 0.5000\n",
      "Epoch 2/10\n",
      "84/84 [==============================] - 13s 154ms/step - loss: 0.6841 - accuracy: 0.5000 - val_loss: 0.6826 - val_accuracy: 0.5000\n",
      "Epoch 3/10\n",
      "84/84 [==============================] - 13s 154ms/step - loss: 0.6833 - accuracy: 0.5000 - val_loss: 0.6816 - val_accuracy: 0.5000\n",
      "Epoch 4/10\n",
      "84/84 [==============================] - 13s 154ms/step - loss: 0.6825 - accuracy: 0.5000 - val_loss: 0.6808 - val_accuracy: 0.5000\n",
      "Epoch 5/10\n",
      "84/84 [==============================] - 13s 154ms/step - loss: 0.6818 - accuracy: 0.5000 - val_loss: 0.6796 - val_accuracy: 0.5000\n",
      "Epoch 6/10\n",
      "84/84 [==============================] - 13s 158ms/step - loss: 0.6807 - accuracy: 0.5000 - val_loss: 0.6783 - val_accuracy: 0.5000\n",
      "Epoch 7/10\n",
      "84/84 [==============================] - 13s 158ms/step - loss: 0.6793 - accuracy: 0.5000 - val_loss: 0.6767 - val_accuracy: 0.5000\n",
      "Epoch 8/10\n",
      "84/84 [==============================] - 13s 152ms/step - loss: 0.6780 - accuracy: 0.5000 - val_loss: 0.6752 - val_accuracy: 0.5000\n",
      "Epoch 9/10\n",
      "84/84 [==============================] - 13s 155ms/step - loss: 0.6769 - accuracy: 0.5000 - val_loss: 0.6730 - val_accuracy: 0.5000\n",
      "Epoch 10/10\n",
      "84/84 [==============================] - 13s 156ms/step - loss: 0.6744 - accuracy: 0.5000 - val_loss: 0.6708 - val_accuracy: 0.5000\n",
      "Step  3\n",
      "Difference:  0.0\n",
      "Validation Acc: 0.5\n",
      "Epoch 1/10\n",
      "84/84 [==============================] - 13s 157ms/step - loss: 0.6723 - accuracy: 0.5000 - val_loss: 0.6679 - val_accuracy: 0.5000\n",
      "Epoch 2/10\n",
      "84/84 [==============================] - 13s 156ms/step - loss: 0.6698 - accuracy: 0.5000 - val_loss: 0.6652 - val_accuracy: 0.5000\n",
      "Epoch 3/10\n",
      "84/84 [==============================] - 14s 162ms/step - loss: 0.6669 - accuracy: 0.5000 - val_loss: 0.6615 - val_accuracy: 0.5000\n",
      "Epoch 4/10\n",
      "84/84 [==============================] - 13s 158ms/step - loss: 0.6635 - accuracy: 0.5000 - val_loss: 0.6578 - val_accuracy: 0.5000\n",
      "Epoch 5/10\n",
      "84/84 [==============================] - 13s 153ms/step - loss: 0.6610 - accuracy: 0.5015 - val_loss: 0.6536 - val_accuracy: 0.5000\n",
      "Epoch 6/10\n",
      "84/84 [==============================] - 13s 152ms/step - loss: 0.6569 - accuracy: 0.5165 - val_loss: 0.6494 - val_accuracy: 0.5030\n",
      "Epoch 7/10\n",
      "84/84 [==============================] - 13s 155ms/step - loss: 0.6526 - accuracy: 0.5599 - val_loss: 0.6448 - val_accuracy: 0.5808\n",
      "Epoch 8/10\n",
      "84/84 [==============================] - 13s 152ms/step - loss: 0.6476 - accuracy: 0.6153 - val_loss: 0.6400 - val_accuracy: 0.6707\n",
      "Epoch 9/10\n",
      "84/84 [==============================] - 13s 152ms/step - loss: 0.6436 - accuracy: 0.6647 - val_loss: 0.6357 - val_accuracy: 0.6886\n",
      "Epoch 10/10\n",
      "84/84 [==============================] - 13s 156ms/step - loss: 0.6405 - accuracy: 0.6692 - val_loss: 0.6304 - val_accuracy: 0.7814\n",
      "Step  4\n",
      "Difference:  0.11227542161941528\n",
      "Validation Acc: 0.78143709897995\n",
      "Epoch 1/10\n",
      "84/84 [==============================] - 13s 156ms/step - loss: 0.6348 - accuracy: 0.7530 - val_loss: 0.6258 - val_accuracy: 0.8144\n",
      "Epoch 2/10\n",
      "84/84 [==============================] - 13s 156ms/step - loss: 0.6300 - accuracy: 0.7949 - val_loss: 0.6210 - val_accuracy: 0.8263\n",
      "Epoch 3/10\n",
      "84/84 [==============================] - 13s 156ms/step - loss: 0.6258 - accuracy: 0.7859 - val_loss: 0.6163 - val_accuracy: 0.8653\n",
      "Epoch 4/10\n",
      "84/84 [==============================] - 13s 154ms/step - loss: 0.6207 - accuracy: 0.8323 - val_loss: 0.6119 - val_accuracy: 0.8683\n",
      "Epoch 5/10\n",
      "84/84 [==============================] - 13s 155ms/step - loss: 0.6181 - accuracy: 0.8338 - val_loss: 0.6078 - val_accuracy: 0.8772\n",
      "Epoch 6/10\n",
      "84/84 [==============================] - 13s 153ms/step - loss: 0.6141 - accuracy: 0.8413 - val_loss: 0.6035 - val_accuracy: 0.8862\n",
      "Epoch 7/10\n",
      "84/84 [==============================] - 13s 155ms/step - loss: 0.6105 - accuracy: 0.8653 - val_loss: 0.5995 - val_accuracy: 0.8922\n",
      "Epoch 8/10\n",
      "84/84 [==============================] - 13s 156ms/step - loss: 0.6057 - accuracy: 0.8623 - val_loss: 0.5953 - val_accuracy: 0.9132\n",
      "Epoch 9/10\n",
      "84/84 [==============================] - 13s 158ms/step - loss: 0.6007 - accuracy: 0.8757 - val_loss: 0.5914 - val_accuracy: 0.8982\n",
      "Epoch 10/10\n",
      "84/84 [==============================] - 13s 156ms/step - loss: 0.5976 - accuracy: 0.8713 - val_loss: 0.5879 - val_accuracy: 0.8982\n",
      "Step  5\n",
      "Difference:  0.02694612741470337\n",
      "Validation Acc: 0.8982036113739014\n",
      "Epoch 1/10\n",
      "84/84 [==============================] - 13s 156ms/step - loss: 0.5941 - accuracy: 0.8952 - val_loss: 0.5843 - val_accuracy: 0.8982\n",
      "Epoch 2/10\n",
      "84/84 [==============================] - 13s 155ms/step - loss: 0.5938 - accuracy: 0.8772 - val_loss: 0.5814 - val_accuracy: 0.9012\n",
      "Epoch 3/10\n",
      "84/84 [==============================] - 13s 155ms/step - loss: 0.5911 - accuracy: 0.8937 - val_loss: 0.5781 - val_accuracy: 0.9102\n",
      "Epoch 4/10\n",
      "84/84 [==============================] - 13s 156ms/step - loss: 0.5858 - accuracy: 0.9042 - val_loss: 0.5750 - val_accuracy: 0.9162\n",
      "Epoch 5/10\n",
      "84/84 [==============================] - 13s 154ms/step - loss: 0.5821 - accuracy: 0.8952 - val_loss: 0.5720 - val_accuracy: 0.9192\n",
      "Epoch 6/10\n",
      "84/84 [==============================] - 13s 152ms/step - loss: 0.5786 - accuracy: 0.9117 - val_loss: 0.5693 - val_accuracy: 0.9222\n",
      "Epoch 7/10\n",
      "84/84 [==============================] - 13s 151ms/step - loss: 0.5786 - accuracy: 0.9132 - val_loss: 0.5664 - val_accuracy: 0.9311\n",
      "Epoch 8/10\n",
      "84/84 [==============================] - 13s 152ms/step - loss: 0.5728 - accuracy: 0.9281 - val_loss: 0.5639 - val_accuracy: 0.9401\n",
      "Epoch 9/10\n",
      "84/84 [==============================] - 13s 153ms/step - loss: 0.5699 - accuracy: 0.9251 - val_loss: 0.5614 - val_accuracy: 0.9341\n",
      "Epoch 10/10\n",
      "84/84 [==============================] - 13s 157ms/step - loss: 0.5660 - accuracy: 0.9416 - val_loss: 0.5589 - val_accuracy: 0.9371\n",
      "Step  6\n",
      "Difference:  0.004491031169891357\n",
      "Validation Acc: 0.9371257424354553\n"
     ]
    }
   ],
   "source": [
    "print ('Step: 0')\n",
    "history = run_training()\n",
    "\n",
    "exitCondition = True\n",
    "step = 1\n",
    "while (exitCondition):\n",
    "    lastTAcc = history.history['accuracy'][-1]\n",
    "    lastVAcc = history.history['val_accuracy'][-1]\n",
    "    print ('Difference: ', abs(lastVAcc-lastTAcc))\n",
    "    print ('Validation Acc:', lastVAcc)\n",
    "    \n",
    "    if (lastVAcc < reqVAcc):\n",
    "        print ('Step:', step)\n",
    "        history = run_training()\n",
    "        step += 1\n",
    "    elif (lastVAcc > reqVAcc) and (abs(lastVAcc-lastTAcc) > reqDiff):\n",
    "        print ('Step:', step)\n",
    "        history = run_training()\n",
    "        step += 1\n",
    "        epochs = 5\n",
    "    else:\n",
    "        exitCondition = False"
   ]
  },
  {
   "cell_type": "code",
   "execution_count": 15,
   "metadata": {},
   "outputs": [
    {
     "data": {
      "image/png": "[encoded data removed]",
      "text/plain": [
       "<Figure size 1152x288 with 2 Axes>"
      ]
     },
     "metadata": {
      "needs_background": "light"
     },
     "output_type": "display_data"
    }
   ],
   "source": [
    "#Show grpahs for the last run\n",
    "acc = history.history['accuracy']\n",
    "val_acc = history.history['val_accuracy']\n",
    "\n",
    "loss = history.history['loss']\n",
    "val_loss = history.history['val_loss']\n",
    "\n",
    "epochs_range = range(epochs)\n",
    "\n",
    "plt.figure(figsize=(16, 4))\n",
    "plt.subplot(1, 2, 1)\n",
    "plt.plot(epochs_range, acc, label='Training Accuracy')\n",
    "plt.plot(epochs_range, val_acc, label='Validation Accuracy')\n",
    "plt.legend(loc='lower right')\n",
    "plt.title('Training and Validation Accuracy')\n",
    "\n",
    "plt.subplot(1, 2, 2)\n",
    "plt.plot(epochs_range, loss, label='Training Loss')\n",
    "plt.plot(epochs_range, val_loss, label='Validation Loss')\n",
    "plt.legend(loc='upper right')\n",
    "plt.title('Training and Validation Loss')\n",
    "plt.show()"
   ]
  },
  {
   "cell_type": "code",
   "execution_count": 16,
   "metadata": {},
   "outputs": [
    {
     "name": "stdout",
     "output_type": "stream",
     "text": [
      "WARNING:tensorflow:From C:\\Users\\Prem Thomas Eapen\\AppData\\Roaming\\Python\\Python36\\site-packages\\tensorflow\\python\\ops\\resource_variable_ops.py:1817: calling BaseResourceVariable.__init__ (from tensorflow.python.ops.resource_variable_ops) with constraint is deprecated and will be removed in a future version.\n",
      "Instructions for updating:\n",
      "If using Keras pass *_constraint arguments to layers.\n",
      "INFO:tensorflow:Assets written to: MinionsModel-20200603\\assets\n"
     ]
    }
   ],
   "source": [
    "model.save('MinionsModel-20200603')"
   ]
  }
 ],
 "metadata": {
  "kernelspec": {
   "display_name": "Python 3",
   "language": "python",
   "name": "python3"
  },
  "language_info": {
   "codemirror_mode": {
    "name": "ipython",
    "version": 3
   },
   "file_extension": ".py",
   "mimetype": "text/x-python",
   "name": "python",
   "nbconvert_exporter": "python",
   "pygments_lexer": "ipython3",
   "version": "3.6.6"
  }
 },
 "nbformat": 4,
 "nbformat_minor": 4
}
